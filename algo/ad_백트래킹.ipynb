{
 "cells": [
  {
   "cell_type": "markdown",
   "metadata": {},
   "source": [
    "# 백트래킹\n",
    "\n",
    "- 여러가지 선택지들이 존재하는 상황에서 한가지를 선택\n",
    "- 선택이 이루어지면 새로운 선택지들의 집합이 생성\n",
    "- 이런 선택을 반복하면서 최종상태에 도달.\n",
    "  - 올바른 선택을 계속하면 목표상태에 도달\n",
    "\n",
    "1. 전체 경우의 수 고려\n",
    "2. 가능성 없는 경우의 수를 제거 = 가지치기(prunning)\n",
    "3. 시간복잡도 : 최악 DFS와 같음, 다양함 > 평균, 최선\n",
    "- 백트래킹과 DFS\n",
    "  - 가능성이 없어 보이면 더이상 그 경로를 가지 않음으로써 시도횟수 줄임(prunning 가지치기)\n",
    "  - DFS 모든경로, 백트래킹 가능한 경로만\n",
    "  - 깊이 우선 탐색 하기에는 N! 가지 경우의 수를 가지기 때문에 처리 불가능\n",
    "  - 많은 경우의 수를 제거할 수 있는가를 생각하면서 백트래킹 적용\n",
    "\n",
    "##### 백트래킹의 일반적인 구조\n",
    "```py\n",
    "def func()\n",
    "    # 재귀를 끝내는 기저 조건\n",
    "    \n",
    "    # 가지치기\n",
    "\n",
    "    # 반복문\n",
    "      # 가지치기\n",
    "\n",
    "      # 재귀 들어가기 전\n",
    "      # 재귀함수 호출\n",
    "      # 돌아와서 초기화\n",
    "```\n"
   ]
  },
  {
   "cell_type": "code",
   "execution_count": null,
   "metadata": {},
   "outputs": [],
   "source": [
    "# 문제 : N-Queen"
   ]
  },
  {
   "cell_type": "code",
   "execution_count": 3,
   "metadata": {},
   "outputs": [
    {
     "name": "stdout",
     "output_type": "stream",
     "text": [
      "1 2 3\n",
      "1 3 2\n",
      "2 1 3\n",
      "2 3 1\n",
      "3 1 2\n",
      "3 2 1\n"
     ]
    }
   ],
   "source": [
    "# 문제 : {1,2,3}의 powerset\n",
    "# 이미 사용하 숫자는 사용하지 않도록\n",
    "\n",
    "arr = [i for i in range(1,4)]\n",
    "path = [0] * 3\n",
    "\n",
    "def backtracking(cnt):\n",
    "    # 종료조건\n",
    "    # 숫자 3개를 골랐을 때 종료\n",
    "    if cnt == 3:\n",
    "        print(*path)\n",
    "        return\n",
    "\n",
    "    for num in arr:\n",
    "        # 가지치기 - 중복된 숫자 제거\n",
    "        # 조건을 작성하는 것이 핵심\n",
    "        if num in path:\n",
    "            continue\n",
    "        # 들어가기 전 로직 - 경로 저장\n",
    "        path[cnt] = num\n",
    "        # 다음 재귀함수 호출\n",
    "        backtracking(cnt+1)\n",
    "        # 돌어와서 할 로직 \n",
    "        # 초기화\n",
    "        path[cnt] = 0\n",
    "\n",
    "\n",
    "backtracking(0)\n"
   ]
  },
  {
   "cell_type": "code",
   "execution_count": null,
   "metadata": {},
   "outputs": [],
   "source": [
    "# 연습문제\n",
    "# {1,2,3,4,5,6,7,8,9,10}의 powerset 중 원소의 합이 10인 부분집합"
   ]
  }
 ],
 "metadata": {
  "kernelspec": {
   "display_name": "Python 3",
   "language": "python",
   "name": "python3"
  },
  "language_info": {
   "codemirror_mode": {
    "name": "ipython",
    "version": 3
   },
   "file_extension": ".py",
   "mimetype": "text/x-python",
   "name": "python",
   "nbconvert_exporter": "python",
   "pygments_lexer": "ipython3",
   "version": "3.9.13"
  },
  "orig_nbformat": 4
 },
 "nbformat": 4,
 "nbformat_minor": 2
}
